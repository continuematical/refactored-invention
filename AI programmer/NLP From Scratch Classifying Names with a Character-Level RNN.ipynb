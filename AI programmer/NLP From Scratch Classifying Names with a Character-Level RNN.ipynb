{
 "cells": [
  {
   "cell_type": "markdown",
   "id": "92bf9488",
   "metadata": {},
   "source": [
    "## RNN"
   ]
  },
  {
   "cell_type": "code",
   "execution_count": 4,
   "id": "1f20fc5f",
   "metadata": {},
   "outputs": [],
   "source": [
    "from io import open\n",
    "import glob # 查找目录和文件\n",
    "import os\n",
    "import torch.nn as nn\n",
    "import torch.nn.functional as F\n",
    "import torch.optim as optim # 导入优化器\n",
    "\n",
    "import unicodedata\n",
    "import string # 字符串操作"
   ]
  },
  {
   "cell_type": "code",
   "execution_count": 3,
   "id": "1cf40285",
   "metadata": {},
   "outputs": [
    {
     "name": "stdout",
     "output_type": "stream",
     "text": [
      "['../data/names\\\\Arabic.txt', '../data/names\\\\Chinese.txt', '../data/names\\\\Czech.txt', '../data/names\\\\Dutch.txt', '../data/names\\\\English.txt', '../data/names\\\\French.txt', '../data/names\\\\German.txt', '../data/names\\\\Greek.txt', '../data/names\\\\Irish.txt', '../data/names\\\\Italian.txt', '../data/names\\\\Japanese.txt', '../data/names\\\\Korean.txt', '../data/names\\\\Polish.txt', '../data/names\\\\Portuguese.txt', '../data/names\\\\Russian.txt', '../data/names\\\\Scottish.txt', '../data/names\\\\Spanish.txt', '../data/names\\\\Vietnamese.txt']\n"
     ]
    }
   ],
   "source": [
    "# 寻找指定目录下的文件\n",
    "def findFiles(path):\n",
    "    return glob.glob(path)\n",
    "\n",
    "print(findFiles('../data/names/*.txt'))"
   ]
  },
  {
   "cell_type": "code",
   "execution_count": 7,
   "id": "9af74f7c",
   "metadata": {},
   "outputs": [],
   "source": [
    "all_letters=string.ascii_letters+'.,:'# abcdefghijklmnopqrstuvwxyzABCDEFGHIJKLMNOPQRSTUVWXYZ.,:\n",
    "n_letters=len(all_letters) # 55\n",
    "\n",
    "all_categories=[]\n",
    "category_line={}"
   ]
  },
  {
   "cell_type": "code",
   "execution_count": 6,
   "id": "3e8b498f",
   "metadata": {},
   "outputs": [
    {
     "name": "stdout",
     "output_type": "stream",
     "text": [
      "Slusarski\n"
     ]
    }
   ],
   "source": [
    "# 字符标准化\n",
    "def unicodeToAscii(s):\n",
    "    return ''.join(\n",
    "        c for c in unicodedata.normalize('NFD',s)  # NFD是unicode规范化形式，将复合字符分解为基本字符和附加的变音符号。\n",
    "        if unicodedata.category(c) != 'Mn'  # 表示非间隔符号，即变音符号\n",
    "        and c in all_letters\n",
    "    )\n",
    "\n",
    "print(unicodeToAscii('Ślusàrski'))"
   ]
  },
  {
   "cell_type": "code",
   "execution_count": 8,
   "id": "9169c963",
   "metadata": {},
   "outputs": [],
   "source": [
    "# 读取文本\n",
    "def readLines(filename):\n",
    "    lines=open(filename, encoding='utf-8').read().strip().split('\\n')\n",
    "    return [unicodeToAscii(line) for line in lines]"
   ]
  },
  {
   "cell_type": "code",
   "execution_count": 10,
   "id": "221b716f",
   "metadata": {},
   "outputs": [
    {
     "name": "stdout",
     "output_type": "stream",
     "text": [
      "18\n"
     ]
    }
   ],
   "source": [
    "for filename in findFiles('../data/names/*.txt'):\n",
    "    category=os.path.splitext(os.path.basename(filename))[0]\n",
    "    all_categories.append(category)\n",
    "    lines=readLines(filename)\n",
    "    category_line[category]=lines\n",
    "\n",
    "\n",
    "n_categories=len(all_categories)\n",
    "print(n_categories)  # 18个类别"
   ]
  },
  {
   "cell_type": "code",
   "execution_count": 63,
   "id": "2dd710a1",
   "metadata": {},
   "outputs": [
    {
     "name": "stdout",
     "output_type": "stream",
     "text": [
      "torch.Size([1, 55])\n",
      "torch.Size([5, 1, 55])\n"
     ]
    }
   ],
   "source": [
    "# 将名字转换为Tensor\n",
    "\n",
    "# 寻找字符索引\n",
    "def letterToIndex(letter):\n",
    "    return all_letters.find(letter)\n",
    "\n",
    "# 字符转化为张量\n",
    "def letterToTensor(letter):\n",
    "    tensor=torch.zeros(1,n_letters)\n",
    "    tensor[0][letterToIndex(letter)]=1 # 对应字母位置置为1\n",
    "    return tensor\n",
    "\n",
    "# 一个名字转化为张量\n",
    "def lineToTensor(line):\n",
    "    tensor=torch.zeros(len(line),1,n_letters)\n",
    "    for li, letter in enumerate(line):\n",
    "        tensor[li][0][letterToIndex(letter)]=1\n",
    "    return tensor\n",
    "\n",
    "print(letterToTensor('J').size())\n",
    "print(lineToTensor('Jones').size())"
   ]
  },
  {
   "cell_type": "code",
   "execution_count": 65,
   "id": "4ddac111",
   "metadata": {},
   "outputs": [],
   "source": [
    "learning_rate=0.005\n",
    "\n",
    "# 构建循环神经网络\n",
    "class RNN(nn.Module):\n",
    "    def __init__(self, input_size, hidden_size, output_size):\n",
    "        super(RNN, self).__init__()\n",
    "        \n",
    "        self.hidden_size=hidden_size\n",
    "        \n",
    "        self.i2h=nn.Linear(input_size, hidden_size)\n",
    "        self.h2h=nn.Linear(hidden_size, hidden_size)\n",
    "        self.h2o=nn.Linear(hidden_size, output_size)\n",
    "        self.softmax=nn.LogSoftmax(dim=1)  # 如果使用交叉熵需要删除\n",
    "        \n",
    "    def forward(self, input, hidden):\n",
    "        hidden=F.tanh(self.i2h(input)+self.h2h(hidden))\n",
    "        output=self.h2o(hidden)\n",
    "        output=self.softmax(output)  # 如果使用交叉熵需要删除\n",
    "        return output, hidden\n",
    "    \n",
    "    def initHidden(self):\n",
    "        return torch.zeros(1,self.hidden_size)\n",
    "\n",
    "n_hidden=128\n",
    "rnn=RNN(n_letters,n_hidden,n_categories)\n",
    "optimizer=optim.SGD(rnn.parameters(), lr=learning_rate) # 定义优化器更新参数"
   ]
  },
  {
   "cell_type": "code",
   "execution_count": 56,
   "id": "02a30616",
   "metadata": {},
   "outputs": [
    {
     "name": "stdout",
     "output_type": "stream",
     "text": [
      "tensor([[-2.8491, -2.8957, -2.7627, -2.9490, -2.8938, -2.9033, -2.7804, -2.9775,\n",
      "         -2.8963, -2.8849, -2.8654, -2.8595, -2.8852, -2.9386, -2.8338, -2.9713,\n",
      "         -2.9160, -2.9982]], grad_fn=<LogSoftmaxBackward0>)\n"
     ]
    }
   ],
   "source": [
    "input=letterToTensor('A')\n",
    "hidden=torch.zeros(1,n_hidden)\n",
    "output, next_hidden=rnn(input[0], hidden)\n",
    "print(output)"
   ]
  },
  {
   "cell_type": "code",
   "execution_count": 57,
   "id": "783fd32b",
   "metadata": {},
   "outputs": [
    {
     "name": "stdout",
     "output_type": "stream",
     "text": [
      "('Czech', 2)\n"
     ]
    }
   ],
   "source": [
    "def categoryFromOutput(output):\n",
    "    top_n, top_i=output.topk(1)\n",
    "    category_i=top_i[0].item()\n",
    "    return all_categories[category_i], category_i\n",
    "\n",
    "print(categoryFromOutput(output))"
   ]
  },
  {
   "cell_type": "code",
   "execution_count": 58,
   "id": "1cc423d4",
   "metadata": {},
   "outputs": [
    {
     "name": "stdout",
     "output_type": "stream",
     "text": [
      "category= Dutch /line Kolijn\n",
      "category= Scottish /line Lindsay\n",
      "category= Japanese /line Akechi\n",
      "category= Spanish /line Rodriguez\n",
      "category= Portuguese /line Barros\n",
      "category= Scottish /line Allan\n",
      "category= Portuguese /line Melo\n",
      "category= Greek /line Galanopoulos\n",
      "category= Vietnamese /line Lam\n",
      "category= Irish /line Eoin\n"
     ]
    }
   ],
   "source": [
    "import random\n",
    "\n",
    "def randomChoice(l):\n",
    "    return l[random.randint(0,len(l)-1)]\n",
    "\n",
    "def randomTrainingExample():\n",
    "    category=randomChoice(all_categories)\n",
    "    line=randomChoice(category_line[category])\n",
    "    category_tensor=torch.tensor([all_categories.index(category)], dtype=torch.long)\n",
    "    line_tensor=lineToTensor(line)\n",
    "    return category, line, category_tensor, line_tensor\n",
    "\n",
    "for i in range(10):\n",
    "    category, line, category_tensor, line_tensor=randomTrainingExample()\n",
    "    print('category=',category,'/line',line)"
   ]
  },
  {
   "cell_type": "code",
   "execution_count": 67,
   "id": "bf2e3925",
   "metadata": {},
   "outputs": [],
   "source": [
    "# 构建训练函数\n",
    "\n",
    "def train(category_tensor, line_tensor):\n",
    "    hidden=rnn.initHidden()\n",
    "    \n",
    "    rnn.zero_grad()\n",
    "    optimizer.zero_grad()  # 清楚优化器的梯度\n",
    "    \n",
    "    for i in range(line_tensor.size()[0]):\n",
    "        output, hidden=rnn(line_tensor[i], hidden)\n",
    "    \n",
    "    loss=criterion(output, category_tensor)\n",
    "    loss.backward()\n",
    "    # 使用优化器更新参数\n",
    "    optimizer.step()\n",
    "#     for p in rnn.parameters():\n",
    "#         p.data.add_(p.grad.data, alpha=-learning_rate)\n",
    "    return output, loss.item()"
   ]
  },
  {
   "cell_type": "code",
   "execution_count": 70,
   "id": "9d6fcfac",
   "metadata": {},
   "outputs": [],
   "source": [
    "# 评价模型\n",
    "criterion = nn.NLLLoss()\n",
    "# 可以修改为交叉熵损失函数\n",
    "criterion = nn.CrossEntropyLoss()"
   ]
  },
  {
   "cell_type": "code",
   "execution_count": 71,
   "id": "a3c7cc7a",
   "metadata": {},
   "outputs": [
    {
     "name": "stdout",
     "output_type": "stream",
     "text": [
      "5000 5% (0m 10s) 0.0234 Takeuchi / Japanese ✓\n",
      "10000 10% (0m 22s) 0.2400 Kranz / German ✓\n",
      "15000 15% (0m 32s) 2.4895 Maly / English ✗ (Polish)\n",
      "20000 20% (0m 43s) 0.0187 Iskenderov / Russian ✓\n",
      "25000 25% (0m 54s) 1.4820 Freudenberger / Portuguese ✗ (German)\n",
      "30000 30% (1m 5s) 0.0325 Paraskos / Greek ✓\n",
      "35000 35% (1m 16s) 1.6599 Han / Chinese ✗ (Vietnamese)\n",
      "40000 40% (1m 26s) 0.0980 Baik / Korean ✓\n",
      "45000 45% (1m 37s) 3.7443 Salinas / Greek ✗ (Spanish)\n",
      "50000 50% (1m 48s) 0.1247 Schnur / German ✓\n",
      "55000 55% (1m 59s) 3.9654 Slocombe / French ✗ (English)\n",
      "60000 60% (2m 10s) 0.0463 Mcgregor / Scottish ✓\n",
      "65000 65% (2m 21s) 0.0212 Kikkawa / Japanese ✓\n",
      "70000 70% (2m 33s) 0.4470 Fabian / Polish ✓\n",
      "75000 75% (2m 44s) 0.0024 Si / Korean ✓\n",
      "80000 80% (2m 56s) 0.0340 Anderson / Scottish ✓\n",
      "85000 85% (3m 8s) 0.1948 Oh / Korean ✓\n",
      "90000 90% (3m 21s) 0.0047 Sadowski / Polish ✓\n",
      "95000 95% (3m 34s) 0.0692 Shamon / Arabic ✓\n",
      "100000 100% (3m 46s) 0.0178 Fortunato / Italian ✓\n"
     ]
    }
   ],
   "source": [
    "# 训练模型\n",
    "import time\n",
    "import math\n",
    "\n",
    "n_iters = 100000\n",
    "print_every = 5000\n",
    "plot_every = 1000\n",
    "\n",
    "\n",
    "current_loss = 0\n",
    "all_losses = []\n",
    "\n",
    "def timeSince(since):\n",
    "    now = time.time()\n",
    "    s = now - since\n",
    "    m = math.floor(s / 60)\n",
    "    s -= m * 60\n",
    "    return '%dm %ds' % (m, s)\n",
    "\n",
    "start = time.time()\n",
    "\n",
    "for iter in range(1, n_iters + 1):\n",
    "    category, line, category_tensor, line_tensor = randomTrainingExample()\n",
    "    output, loss = train(category_tensor, line_tensor)\n",
    "    current_loss += loss\n",
    "\n",
    "    if iter % print_every == 0:\n",
    "        guess, guess_i = categoryFromOutput(output)\n",
    "        correct = '✓' if guess == category else '✗ (%s)' % category\n",
    "        print('%d %d%% (%s) %.4f %s / %s %s' % (iter, iter / n_iters * 100, timeSince(start), loss, line, guess, correct))\n",
    "\n",
    "    if iter % plot_every == 0:\n",
    "        all_losses.append(current_loss / plot_every)\n",
    "        current_loss = 0"
   ]
  },
  {
   "cell_type": "code",
   "execution_count": 52,
   "id": "80824521",
   "metadata": {},
   "outputs": [
    {
     "data": {
      "text/plain": [
       "[<matplotlib.lines.Line2D at 0x1ca0ebfd460>]"
      ]
     },
     "execution_count": 52,
     "metadata": {},
     "output_type": "execute_result"
    },
    {
     "data": {
      "image/png": "[encoded data removed]",
      "text/plain": [
       "<Figure size 640x480 with 1 Axes>"
      ]
     },
     "metadata": {},
     "output_type": "display_data"
    }
   ],
   "source": [
    "# 绘制结果\n",
    "import matplotlib.pyplot as plt\n",
    "import matplotlib.ticker as ticker\n",
    "\n",
    "plt.figure()\n",
    "plt.plot(all_losses)"
   ]
  },
  {
   "cell_type": "code",
   "execution_count": null,
   "id": "d1352d54",
   "metadata": {},
   "outputs": [],
   "source": []
  }
 ],
 "metadata": {
  "kernelspec": {
   "display_name": "Python [conda env:pytorch]",
   "language": "python",
   "name": "conda-env-pytorch-py"
  },
  "language_info": {
   "codemirror_mode": {
    "name": "ipython",
    "version": 3
   },
   "file_extension": ".py",
   "mimetype": "text/x-python",
   "name": "python",
   "nbconvert_exporter": "python",
   "pygments_lexer": "ipython3",
   "version": "3.12.3"
  }
 },
 "nbformat": 4,
 "nbformat_minor": 5
}
