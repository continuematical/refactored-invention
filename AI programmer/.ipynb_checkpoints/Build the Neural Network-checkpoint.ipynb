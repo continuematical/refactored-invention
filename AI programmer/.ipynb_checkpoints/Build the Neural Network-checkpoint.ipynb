{
 "cells": [
  {
   "cell_type": "code",
   "execution_count": 1,
   "id": "d6f44b82",
   "metadata": {},
   "outputs": [],
   "source": [
    "import os\n",
    "import torch\n",
    "from torch import nn\n",
    "from torch.utils.data import DataLoader\n",
    "from torchvision import datasets, transforms"
   ]
  },
  {
   "cell_type": "code",
   "execution_count": 2,
   "id": "cd24568f",
   "metadata": {},
   "outputs": [
    {
     "name": "stdout",
     "output_type": "stream",
     "text": [
      "Using cpu device\n"
     ]
    }
   ],
   "source": [
    "device = (\n",
    "    \"cuda\"\n",
    "    if torch.cuda.is_available()\n",
    "    else \"mps\"\n",
    "    if torch.backends.mps.is_available()\n",
    "    else \"cpu\"\n",
    ")\n",
    "print(f\"Using {device} device\")"
   ]
  },
  {
   "cell_type": "code",
   "execution_count": 3,
   "id": "1cfdf499",
   "metadata": {},
   "outputs": [],
   "source": [
    "class NeuralNetwork(nn.Module):\n",
    "    def __init__(self):\n",
    "        super().__init__()\n",
    "        self.flatten = nn.Flatten()\n",
    "        self.linear_relu_stack = nn.Sequential(\n",
    "            nn.Linear(28*28, 512),\n",
    "            nn.ReLU(),\n",
    "            nn.Linear(512, 512),\n",
    "            nn.ReLU(),\n",
    "            nn.Linear(512, 10),\n",
    "        )\n",
    "\n",
    "    def forward(self, x):\n",
    "        x = self.flatten(x)\n",
    "        logits = self.linear_relu_stack(x)\n",
    "        return logits"
   ]
  },
  {
   "cell_type": "code",
   "execution_count": 6,
   "id": "66123d30",
   "metadata": {},
   "outputs": [
    {
     "name": "stdout",
     "output_type": "stream",
     "text": [
      "NeuralNetwork(\n",
      "  (flatten): Flatten(start_dim=1, end_dim=-1)\n",
      "  (linear_relu_stack): Sequential(\n",
      "    (0): Linear(in_features=784, out_features=512, bias=True)\n",
      "    (1): ReLU()\n",
      "    (2): Linear(in_features=512, out_features=512, bias=True)\n",
      "    (3): ReLU()\n",
      "    (4): Linear(in_features=512, out_features=10, bias=True)\n",
      "  )\n",
      ")\n"
     ]
    }
   ],
   "source": [
    "model = NeuralNetwork().to(device)\n",
    "print(model)"
   ]
  },
  {
   "cell_type": "code",
   "execution_count": 7,
   "id": "0a074b44",
   "metadata": {},
   "outputs": [
    {
     "name": "stdout",
     "output_type": "stream",
     "text": [
      "Predicted class: tensor([5])\n"
     ]
    }
   ],
   "source": [
    "X = torch.rand(1, 28, 28, device=device)\n",
    "logits = model(X) # 获得预测结果\n",
    "pred_probab = nn.Softmax(dim=1)(logits)\n",
    "y_pred = pred_probab.argmax(1)\n",
    "print(f\"Predicted class: {y_pred}\")"
   ]
  },
  {
   "cell_type": "code",
   "execution_count": 8,
   "id": "fe2f0f55",
   "metadata": {},
   "outputs": [
    {
     "name": "stdout",
     "output_type": "stream",
     "text": [
      "torch.Size([3, 28, 28])\n"
     ]
    }
   ],
   "source": [
    "# model layers\n",
    "input_image = torch.rand(3,28,28)\n",
    "print(input_image.size())"
   ]
  },
  {
   "cell_type": "code",
   "execution_count": 9,
   "id": "4c8d5b16",
   "metadata": {},
   "outputs": [
    {
     "name": "stdout",
     "output_type": "stream",
     "text": [
      "torch.Size([3, 784])\n"
     ]
    }
   ],
   "source": [
    "# 展平\n",
    "flatten = nn.Flatten()\n",
    "flat_image = flatten(input_image)\n",
    "print(flat_image.size())"
   ]
  },
  {
   "cell_type": "code",
   "execution_count": 10,
   "id": "96902e10",
   "metadata": {},
   "outputs": [
    {
     "name": "stdout",
     "output_type": "stream",
     "text": [
      "torch.Size([3, 20])\n"
     ]
    }
   ],
   "source": [
    "layer1 = nn.Linear(in_features=28*28, out_features=20)\n",
    "hidden1 = layer1(flat_image)\n",
    "print(hidden1.shape)"
   ]
  },
  {
   "cell_type": "code",
   "execution_count": 11,
   "id": "2a226ae5",
   "metadata": {},
   "outputs": [
    {
     "name": "stdout",
     "output_type": "stream",
     "text": [
      "Before ReLU: tensor([[ 0.0297,  0.0673, -0.2215, -0.5346,  0.0681, -0.0813,  0.0486,  0.1792,\n",
      "          0.4752, -0.1360, -0.2471,  0.0584,  0.2141,  0.8411,  0.0288, -0.2349,\n",
      "          0.0172, -0.0728,  0.3199,  0.1837],\n",
      "        [-0.0470, -0.0163,  0.1871, -0.4936, -0.0909, -0.1042,  0.0485,  0.2703,\n",
      "          0.1485, -0.2092, -0.1498,  0.1420, -0.0515,  0.8524, -0.1121, -0.1619,\n",
      "          0.4173,  0.0040,  0.3408, -0.1004],\n",
      "        [-0.1747,  0.1590,  0.2382, -0.2649, -0.0811, -0.0604,  0.1135,  0.4714,\n",
      "          0.3450, -0.1822, -0.0367, -0.0769,  0.2071,  0.7731, -0.0376, -0.1229,\n",
      "          0.4385,  0.0414,  0.3371,  0.1663]], grad_fn=<AddmmBackward0>)\n",
      "\n",
      "\n",
      "After ReLU: tensor([[0.0297, 0.0673, 0.0000, 0.0000, 0.0681, 0.0000, 0.0486, 0.1792, 0.4752,\n",
      "         0.0000, 0.0000, 0.0584, 0.2141, 0.8411, 0.0288, 0.0000, 0.0172, 0.0000,\n",
      "         0.3199, 0.1837],\n",
      "        [0.0000, 0.0000, 0.1871, 0.0000, 0.0000, 0.0000, 0.0485, 0.2703, 0.1485,\n",
      "         0.0000, 0.0000, 0.1420, 0.0000, 0.8524, 0.0000, 0.0000, 0.4173, 0.0040,\n",
      "         0.3408, 0.0000],\n",
      "        [0.0000, 0.1590, 0.2382, 0.0000, 0.0000, 0.0000, 0.1135, 0.4714, 0.3450,\n",
      "         0.0000, 0.0000, 0.0000, 0.2071, 0.7731, 0.0000, 0.0000, 0.4385, 0.0414,\n",
      "         0.3371, 0.1663]], grad_fn=<ReluBackward0>)\n"
     ]
    }
   ],
   "source": [
    "# relu激活函数\n",
    "print(f\"Before ReLU: {hidden1}\\n\\n\")\n",
    "hidden1 = nn.ReLU()(hidden1)\n",
    "print(f\"After ReLU: {hidden1}\")"
   ]
  },
  {
   "cell_type": "code",
   "execution_count": 12,
   "id": "a24d2b4e",
   "metadata": {},
   "outputs": [
    {
     "name": "stdout",
     "output_type": "stream",
     "text": [
      "tensor([[-0.1604, -0.0465,  0.0156, -0.2862,  0.3066,  0.1129, -0.1054,  0.1084,\n",
      "          0.2143,  0.2473],\n",
      "        [-0.2012,  0.0266,  0.0690, -0.2169,  0.2167,  0.0413, -0.1578,  0.1398,\n",
      "          0.2104,  0.2215],\n",
      "        [-0.1192, -0.0214,  0.0864, -0.2403,  0.4226,  0.0623, -0.1374,  0.3176,\n",
      "          0.2153,  0.3174]], grad_fn=<AddmmBackward0>)\n"
     ]
    }
   ],
   "source": [
    "## nn.Sequential将操作连接在一起\n",
    "seq_mode = nn.Sequential(flatten, \n",
    "                         layer1, \n",
    "                         nn.ReLU(), \n",
    "                         nn.Linear(20,10))\n",
    "input_image = torch.rand(3,28,28)\n",
    "logits = seq_mode(input_image)\n",
    "print(logits)"
   ]
  },
  {
   "cell_type": "code",
   "execution_count": 13,
   "id": "b43f90f9",
   "metadata": {},
   "outputs": [
    {
     "data": {
      "text/plain": [
       "tensor([[0.0805, 0.0902, 0.0960, 0.0710, 0.1284, 0.1058, 0.0850, 0.1053, 0.1170,\n",
       "         0.1210],\n",
       "        [0.0779, 0.0979, 0.1021, 0.0767, 0.1184, 0.0993, 0.0814, 0.1096, 0.1176,\n",
       "         0.1189],\n",
       "        [0.0793, 0.0875, 0.0974, 0.0703, 0.1363, 0.0951, 0.0779, 0.1227, 0.1108,\n",
       "         0.1227]], grad_fn=<SoftmaxBackward0>)"
      ]
     },
     "execution_count": 13,
     "metadata": {},
     "output_type": "execute_result"
    }
   ],
   "source": [
    "softmax = nn.Softmax(dim=1)\n",
    "pred_probab = softmax(logits)\n",
    "pred_probab # 预测值"
   ]
  },
  {
   "cell_type": "code",
   "execution_count": 14,
   "id": "58c498dd",
   "metadata": {},
   "outputs": [
    {
     "name": "stdout",
     "output_type": "stream",
     "text": [
      "Model structure: NeuralNetwork(\n",
      "  (flatten): Flatten(start_dim=1, end_dim=-1)\n",
      "  (linear_relu_stack): Sequential(\n",
      "    (0): Linear(in_features=784, out_features=512, bias=True)\n",
      "    (1): ReLU()\n",
      "    (2): Linear(in_features=512, out_features=512, bias=True)\n",
      "    (3): ReLU()\n",
      "    (4): Linear(in_features=512, out_features=10, bias=True)\n",
      "  )\n",
      ")\n",
      "\n",
      "\n",
      "Layer: linear_relu_stack.0.weight | Size: torch.Size([512, 784]) | Values : tensor([[-0.0208,  0.0173, -0.0141,  ..., -0.0070, -0.0152,  0.0186],\n",
      "        [ 0.0019,  0.0254, -0.0191,  ...,  0.0010, -0.0110,  0.0246]],\n",
      "       grad_fn=<SliceBackward0>) \n",
      "\n",
      "Layer: linear_relu_stack.0.bias | Size: torch.Size([512]) | Values : tensor([ 0.0239, -0.0310], grad_fn=<SliceBackward0>) \n",
      "\n",
      "Layer: linear_relu_stack.2.weight | Size: torch.Size([512, 512]) | Values : tensor([[ 0.0164,  0.0398, -0.0345,  ..., -0.0375,  0.0403, -0.0384],\n",
      "        [-0.0336,  0.0279, -0.0261,  ...,  0.0438,  0.0107, -0.0317]],\n",
      "       grad_fn=<SliceBackward0>) \n",
      "\n",
      "Layer: linear_relu_stack.2.bias | Size: torch.Size([512]) | Values : tensor([-0.0210,  0.0283], grad_fn=<SliceBackward0>) \n",
      "\n",
      "Layer: linear_relu_stack.4.weight | Size: torch.Size([10, 512]) | Values : tensor([[-0.0065, -0.0232,  0.0434,  ..., -0.0181,  0.0138, -0.0059],\n",
      "        [ 0.0225,  0.0242, -0.0219,  ..., -0.0041,  0.0361,  0.0142]],\n",
      "       grad_fn=<SliceBackward0>) \n",
      "\n",
      "Layer: linear_relu_stack.4.bias | Size: torch.Size([10]) | Values : tensor([-0.0337,  0.0083], grad_fn=<SliceBackward0>) \n",
      "\n"
     ]
    }
   ],
   "source": [
    "# 模型参数\n",
    "\n",
    "print(f\"Model structure: {model}\\n\\n\")\n",
    "\n",
    "for name, param in model.named_parameters():\n",
    "    print(f\"Layer: {name} | Size: {param.size()} | Values : {param[:2]} \\n\")"
   ]
  },
  {
   "cell_type": "code",
   "execution_count": null,
   "id": "84ceab2a",
   "metadata": {},
   "outputs": [],
   "source": []
  }
 ],
 "metadata": {
  "kernelspec": {
   "display_name": "Python [conda env:pytorch]",
   "language": "python",
   "name": "conda-env-pytorch-py"
  },
  "language_info": {
   "codemirror_mode": {
    "name": "ipython",
    "version": 3
   },
   "file_extension": ".py",
   "mimetype": "text/x-python",
   "name": "python",
   "nbconvert_exporter": "python",
   "pygments_lexer": "ipython3",
   "version": "3.12.3"
  }
 },
 "nbformat": 4,
 "nbformat_minor": 5
}
