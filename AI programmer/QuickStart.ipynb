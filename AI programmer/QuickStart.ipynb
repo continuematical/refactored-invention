{
 "cells": [
  {
   "cell_type": "code",
   "execution_count": null,
   "id": "d6b1f199",
   "metadata": {},
   "outputs": [],
   "source": [
    "import torch\n",
    "from torch import nn\n",
    "from torch.utils.data import DataLoader\n",
    "from torchvision import datasets\n",
    "from torchvision.transforms import ToTensor"
   ]
  },
  {
   "cell_type": "code",
   "execution_count": 68,
   "id": "a5ea2dca",
   "metadata": {},
   "outputs": [],
   "source": [
    "# Download training data from open datasets.\n",
    "training_data = datasets.FashionMNIST(\n",
    "    root=\"data\",\n",
    "    train=True,\n",
    "    download=True,\n",
    "    transform=ToTensor(),\n",
    ")\n",
    "\n",
    "# Download test data from open datasets.\n",
    "test_data = datasets.FashionMNIST(\n",
    "    root=\"data\",\n",
    "    train=False,\n",
    "    download=True,\n",
    "    transform=ToTensor(),\n",
    ")"
   ]
  },
  {
   "cell_type": "code",
   "execution_count": 75,
   "id": "9a992ec2",
   "metadata": {},
   "outputs": [
    {
     "name": "stdout",
     "output_type": "stream",
     "text": [
      "Shape of X [N, C, H, W]: torch.Size([64, 1, 28, 28])\n",
      "Shape of y: torch.Size([64]) torch.int64\n"
     ]
    }
   ],
   "source": [
    "batch_size = 64\n",
    "\n",
    "# Create data loaders.\n",
    "train_dataloader = DataLoader(training_data, batch_size=batch_size)\n",
    "test_dataloader = DataLoader(test_data, batch_size=batch_size)\n",
    "\n",
    "for X, y in test_dataloader:\n",
    "    print(f\"Shape of X [N, C, H, W]: {X.shape}\")\n",
    "    print(f\"Shape of y: {y.shape} {y.dtype}\")\n",
    "    break"
   ]
  },
  {
   "cell_type": "code",
   "execution_count": 76,
   "id": "977c7cf0",
   "metadata": {},
   "outputs": [
    {
     "name": "stdout",
     "output_type": "stream",
     "text": [
      "Using cpu device\n",
      "NeuralNetwork(\n",
      "  (flatten): Flatten(start_dim=1, end_dim=-1)\n",
      "  (linear_relu_stack): Sequential(\n",
      "    (0): Linear(in_features=784, out_features=512, bias=True)\n",
      "    (1): ReLU()\n",
      "    (2): Linear(in_features=512, out_features=256, bias=True)\n",
      "    (3): ReLU()\n",
      "    (4): Linear(in_features=256, out_features=10, bias=True)\n",
      "  )\n",
      ")\n"
     ]
    }
   ],
   "source": [
    "# Get cpu, gpu or mps device for training.\n",
    "device = (\n",
    "    \"cuda\"\n",
    "    if torch.cuda.is_available()\n",
    "    else \"mps\"\n",
    "    if torch.backends.mps.is_available()\n",
    "    else \"cpu\"\n",
    ")\n",
    "print(f\"Using {device} device\")\n",
    "\n",
    "# Define model\n",
    "class NeuralNetwork(nn.Module):\n",
    "    def __init__(self):\n",
    "        super().__init__()\n",
    "        self.flatten = nn.Flatten()\n",
    "        self.linear_relu_stack = nn.Sequential(\n",
    "            nn.Linear(28*28, 512),\n",
    "            nn.ReLU(),\n",
    "            nn.Linear(512, 256),\n",
    "            nn.ReLU(),\n",
    "            nn.Linear(256, 10)\n",
    "        )\n",
    "\n",
    "    def forward(self, x):\n",
    "        x = self.flatten(x)\n",
    "        logits = self.linear_relu_stack(x)\n",
    "        return logits\n",
    "\n",
    "model = NeuralNetwork().to(device)\n",
    "print(model)"
   ]
  },
  {
   "cell_type": "code",
   "execution_count": 77,
   "id": "524d31ae",
   "metadata": {},
   "outputs": [],
   "source": [
    "# 模型优化\n",
    "loss_fn = nn.CrossEntropyLoss()\n",
    "optimizer = torch.optim.SGD(model.parameters(), lr=1e-3)"
   ]
  },
  {
   "cell_type": "code",
   "execution_count": 78,
   "id": "3b62f3c3",
   "metadata": {},
   "outputs": [],
   "source": [
    "# 模型训练\n",
    "def train(dataloader, model, loss_fn, optimizer):\n",
    "    size = len(dataloader.dataset)\n",
    "    model.train()\n",
    "    for batch, (X, y) in enumerate(dataloader):\n",
    "        X, y = X.to(device), y.to(device)\n",
    "\n",
    "        # Compute prediction error\n",
    "        pred = model(X)\n",
    "        loss = loss_fn(pred, y)\n",
    "\n",
    "        # Backpropagation\n",
    "        loss.backward()\n",
    "        optimizer.step()\n",
    "        optimizer.zero_grad()\n",
    "\n",
    "        if batch % 100 == 0:\n",
    "            loss, current = loss.item(), (batch + 1) * len(X)\n",
    "            print(f\"loss: {loss:>7f}  [{current:>5d}/{size:>5d}]\")"
   ]
  },
  {
   "cell_type": "code",
   "execution_count": 79,
   "id": "9f5532e9",
   "metadata": {},
   "outputs": [],
   "source": [
    "# 模型预测\n",
    "def test(dataloader, model, loss_fn):\n",
    "    size = len(dataloader.dataset)\n",
    "    num_batches = len(dataloader)\n",
    "    model.eval()\n",
    "    test_loss, correct = 0, 0\n",
    "    with torch.no_grad():\n",
    "        for X, y in dataloader:\n",
    "            X, y = X.to(device), y.to(device)\n",
    "            pred = model(X)\n",
    "            test_loss += loss_fn(pred, y).item()\n",
    "            correct += (pred.argmax(1) == y).type(torch.float).sum().item()\n",
    "    test_loss /= num_batches\n",
    "    correct /= size\n",
    "    print(f\"Test Error: \\n Accuracy: {(100*correct):>0.1f}%, Avg loss: {test_loss:>8f} \\n\")"
   ]
  },
  {
   "cell_type": "code",
   "execution_count": 80,
   "id": "1595b791",
   "metadata": {},
   "outputs": [
    {
     "name": "stdout",
     "output_type": "stream",
     "text": [
      "Epoch 1\n",
      "-------------------------------\n",
      "loss: 2.306485  [   64/60000]\n",
      "loss: 2.289873  [ 6464/60000]\n",
      "loss: 2.273880  [12864/60000]\n",
      "loss: 2.278415  [19264/60000]\n",
      "loss: 2.252878  [25664/60000]\n",
      "loss: 2.245341  [32064/60000]\n",
      "loss: 2.249102  [38464/60000]\n",
      "loss: 2.217293  [44864/60000]\n",
      "loss: 2.212417  [51264/60000]\n",
      "loss: 2.197639  [57664/60000]\n",
      "Test Error: \n",
      " Accuracy: 42.9%, Avg loss: 2.185986 \n",
      "\n",
      "Epoch 2\n",
      "-------------------------------\n",
      "loss: 2.195475  [   64/60000]\n",
      "loss: 2.177253  [ 6464/60000]\n",
      "loss: 2.130268  [12864/60000]\n",
      "loss: 2.153144  [19264/60000]\n",
      "loss: 2.092378  [25664/60000]\n",
      "loss: 2.063462  [32064/60000]\n",
      "loss: 2.091092  [38464/60000]\n",
      "loss: 2.020521  [44864/60000]\n",
      "loss: 2.022808  [51264/60000]\n",
      "loss: 1.970637  [57664/60000]\n",
      "Test Error: \n",
      " Accuracy: 48.4%, Avg loss: 1.962602 \n",
      "\n",
      "Epoch 3\n",
      "-------------------------------\n",
      "loss: 1.991023  [   64/60000]\n",
      "loss: 1.956439  [ 6464/60000]\n",
      "loss: 1.855093  [12864/60000]\n",
      "loss: 1.901887  [19264/60000]\n",
      "loss: 1.780035  [25664/60000]\n",
      "loss: 1.744316  [32064/60000]\n",
      "loss: 1.777615  [38464/60000]\n",
      "loss: 1.672189  [44864/60000]\n",
      "loss: 1.697329  [51264/60000]\n",
      "loss: 1.606156  [57664/60000]\n",
      "Test Error: \n",
      " Accuracy: 58.2%, Avg loss: 1.614765 \n",
      "\n",
      "Epoch 4\n",
      "-------------------------------\n",
      "loss: 1.671782  [   64/60000]\n",
      "loss: 1.631837  [ 6464/60000]\n",
      "loss: 1.491751  [12864/60000]\n",
      "loss: 1.567796  [19264/60000]\n",
      "loss: 1.434037  [25664/60000]\n",
      "loss: 1.431056  [32064/60000]\n",
      "loss: 1.452084  [38464/60000]\n",
      "loss: 1.366579  [44864/60000]\n",
      "loss: 1.406151  [51264/60000]\n",
      "loss: 1.308971  [57664/60000]\n",
      "Test Error: \n",
      " Accuracy: 61.9%, Avg loss: 1.332571 \n",
      "\n",
      "Epoch 5\n",
      "-------------------------------\n",
      "loss: 1.407866  [   64/60000]\n",
      "loss: 1.378800  [ 6464/60000]\n",
      "loss: 1.225409  [12864/60000]\n",
      "loss: 1.327211  [19264/60000]\n",
      "loss: 1.193310  [25664/60000]\n",
      "loss: 1.221640  [32064/60000]\n",
      "loss: 1.241399  [38464/60000]\n",
      "loss: 1.172601  [44864/60000]\n",
      "loss: 1.217816  [51264/60000]\n",
      "loss: 1.132073  [57664/60000]\n",
      "Test Error: \n",
      " Accuracy: 63.6%, Avg loss: 1.151956 \n",
      "\n",
      "Done!\n"
     ]
    }
   ],
   "source": [
    "epochs = 5\n",
    "for t in range(epochs):\n",
    "    print(f\"Epoch {t+1}\\n-------------------------------\")\n",
    "    train(train_dataloader, model, loss_fn, optimizer)\n",
    "    test(test_dataloader, model, loss_fn)\n",
    "print(\"Done!\")"
   ]
  },
  {
   "cell_type": "code",
   "execution_count": null,
   "id": "6d90e78e",
   "metadata": {},
   "outputs": [],
   "source": [
    "torch.save(model.state_dict(), \"model.pth\")\n",
    "print(\"Saved PyTorch Model State to model.pth\")"
   ]
  },
  {
   "cell_type": "code",
   "execution_count": null,
   "id": "afcf128a",
   "metadata": {},
   "outputs": [],
   "source": [
    "# load models\n",
    "model = NeuralNetwork().to(device)\n",
    "model.load_state_dict(torch.load(\"model.pth\"))"
   ]
  },
  {
   "cell_type": "code",
   "execution_count": null,
   "id": "e2d9a009",
   "metadata": {},
   "outputs": [],
   "source": [
    "classes = [\n",
    "    \"T-shirt/top\",\n",
    "    \"Trouser\",\n",
    "    \"Pullover\",\n",
    "    \"Dress\",\n",
    "    \"Coat\",\n",
    "    \"Sandal\",\n",
    "    \"Shirt\",\n",
    "    \"Sneaker\",\n",
    "    \"Bag\",\n",
    "    \"Ankle boot\",\n",
    "]\n",
    "\n",
    "model.eval()\n",
    "x, y = test_data[66][0], test_data[66][1]\n",
    "with torch.no_grad():\n",
    "    x = x.to(device)\n",
    "    pred = model(x)\n",
    "    predicted, actual = classes[pred[0].argmax(0)], classes[y]\n",
    "    print(f'Predicted: \"{predicted}\", Actual: \"{actual}\"')"
   ]
  },
  {
   "cell_type": "code",
   "execution_count": null,
   "id": "c4f5f327",
   "metadata": {},
   "outputs": [],
   "source": []
  }
 ],
 "metadata": {
  "kernelspec": {
   "display_name": "Python [conda env:pytorch]",
   "language": "python",
   "name": "conda-env-pytorch-py"
  },
  "language_info": {
   "codemirror_mode": {
    "name": "ipython",
    "version": 3
   },
   "file_extension": ".py",
   "mimetype": "text/x-python",
   "name": "python",
   "nbconvert_exporter": "python",
   "pygments_lexer": "ipython3",
   "version": "3.12.3"
  }
 },
 "nbformat": 4,
 "nbformat_minor": 5
}
